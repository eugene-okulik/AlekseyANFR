{
 "cells": [
  {
   "cell_type": "code",
   "execution_count": 54,
   "id": "eac39818",
   "metadata": {},
   "outputs": [
    {
     "name": "stdout",
     "output_type": "stream",
     "text": [
      "2.42\n",
      "[1, 3, 'text', False, 2.42, 'wow']\n",
      "[1, 'text', False, 2.42, 'wow']\n",
      "{'dict': {'two': 'value2', 'three': 'value3', 'four': 'value4', 'five': 'value5', ('i am a tuple',): 10101}}\n",
      "{'set': {1, 3, 6, 7, 5000}}\n"
     ]
    }
   ],
   "source": [
    "my_dict = {}\n",
    "my_dict['tuple'] = (1, 3, 'text', False, 2.42)\n",
    "print(my_dict['tuple'][-1])\n",
    "\n",
    "my_dict = {}\n",
    "my_dict['list'] = [1, 3, 'text', False, 2.42]\n",
    "my_dict['list'].append('wow')\n",
    "print(my_dict['list'])\n",
    "my_dict['list'].pop(1)\n",
    "print(my_dict['list'])\n",
    "\n",
    "my_dict = {}\n",
    "my_dict['dict'] = {'one': 'value', 'two': 'value2', 'three': 'value3', 'four': 'value4', 'five': 'value5'}\n",
    "my_dict['dict'][('i am a tuple',)] = 10101\n",
    "my_dict['dict'].pop('one')\n",
    "print(my_dict)\n",
    "\n",
    "my_dict = {}\n",
    "my_dict['set'] = {1, 3, 6, 7, None}\n",
    "my_dict['set'].add(5000)\n",
    "poped = my_dict['set'].pop()\n",
    "print(my_dict)\n"
   ]
  }
 ],
 "metadata": {
  "kernelspec": {
   "display_name": "Python 3",
   "language": "python",
   "name": "python3"
  },
  "language_info": {
   "codemirror_mode": {
    "name": "ipython",
    "version": 3
   },
   "file_extension": ".py",
   "mimetype": "text/x-python",
   "name": "python",
   "nbconvert_exporter": "python",
   "pygments_lexer": "ipython3",
   "version": "3.13.3"
  }
 },
 "nbformat": 4,
 "nbformat_minor": 5
}
